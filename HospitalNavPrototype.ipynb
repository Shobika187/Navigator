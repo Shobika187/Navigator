import folium
from folium import plugins
import pandas as pd

import ipywidgets
import os
import json

UMMlocation = (13.0262, 80.0163)
map_UMM = folium.Map(location = UMMlocation, width = "75%", zoom_start = 18) # max zoom: 18
print("This is Saveetha University located near Thandalam, Chennai.")

map_UMM


hauseOutline = 'clg.geojson'
display(folium.GeoJson(hauseOutline, name="Haus22").add_to(map_UMM))
print(Saveetha Provides Engineering College,Medical College,Deemed University)

display(map_UMM)
hauseOutline = 'Blocks.geojson'
display(folium.GeoJson(hauseOutline, name="Haus22").add_to(map_UMM))
print("SEC Has 4 Entrances")
print("\nFirst one is CSE")
print("\nThe Second one is ADMIN Which is Main Entrance")
print("\nThird one is ECE")
print("\nFirst one is EEE")
display(map_UMM)
testGeoJson = 'path.geojson'
def switchPosition(coordinate):
  temp = coordinate[0]
  coordinate[0] = coordinate[1]
  coordinate[1] = temp
  return coordinate

with open(testGeoJson) as f:
  testWay = json.load(f)

for feature in testWay['features']:
    path = feature['geometry']['coordinates']
finalPath = list(map(switchPosition,path))
finalPath

path = 'path.geojson'
folium.plugins.AntPath([[13.022299943401109, 80.01663484755176],
 [13.023276221536378, 80.0167478993859],
 [13.023406391663912, 80.01669137346693],
 [13.023466470161182, 80.01680442530102],
 [13.024302561068964, 80.01690719969645],
 [13.025380518842056, 80.01706755091124],
 [13.025972933366589, 80.01719052730999],
 [13.0257402587375, 80.01664465340298],
 [13.025933046302782, 80.01654230204633]]).add_to(map_UMM)
print("")
map_UMM

select_widget=ipywidgets.Select(
    options=['CSE', 'ADMIN'],
    value='CSE',
    description='Select',
    disabled=False)

def selectOption(opt):
    if opt == 'CSE':
        print('CSE')
    if opt == 'ADMIN':
        print('ADMIN')



ipywidgets.interact(selectOption, opt=select_widget)


myNavigator = navigator()

def displayWay(whereTo):
     myNavigator.changeDestination(whereTo)

def changePosition(whereFrom):
    myNavigator.changeStartPoint(whereFrom)


# Destination Selector
selectHouse_widget=ipywidgets.Select(

options=['CSE',
    'ADMIN',
    'ECE',
    'EEE',
    'RECEP',
    'BEEE'],
    value='CSE',
    description='Target',
    disabled=False)

# widget function
def selectHouse(way):
    if way == 'CSE' :
        displayWay('CSE' )
    if way == 'ADMIN':
        displayWay('ADMIN')
    if way == 'ECE':
        displayWay('ECE')
    if way == 'EEE':
        displayWay('EEE')
    if way == 'BEEE':
        displayWay('BEEE')
    if way == 'RECEP':
        displayWay('RECEP')



# Position Selector
selectPosition_widget=ipywidgets.Select(
    options=['CSE', 'ADMIN', 'ECE', 'EEE'],
    value='ADMIN',
    description='Start',
    disabled=False)

def selectPosition(position):
    if position == 'CSE':
        changePosition('a')
    if position == 'ADMIN':
        changePosition('w')
    if position == 'ECE':
        changePosition('o')
    if position == 'EEE':
        changePosition('f')

#Initialization
ipywidgets.interact(selectPosition, position=selectPosition_widget)
ipywidgets.interact(selectHouse, way=selectHouse_widget)
